{
 "cells": [
  {
   "cell_type": "code",
   "execution_count": 24,
   "metadata": {},
   "outputs": [],
   "source": [
    "import sentiment_mod1 as s \n",
    "# sentiment_mod1 is \n"
   ]
  },
  {
   "cell_type": "code",
   "execution_count": 25,
   "metadata": {},
   "outputs": [
    {
     "name": "stdout",
     "output_type": "stream",
     "text": [
      "('pos', 1.0)\n",
      "('neg', 1.0)\n"
     ]
    }
   ],
   "source": [
    "print(s.sentiment(\"This movie is great! It has the best visual effects and action. The storywriting is good.  \"))\n",
    "\n",
    "print(s.sentiment(\"This movie sucks. Nothing was visible and the plotline was stupid.\"))"
   ]
  },
  {
   "cell_type": "code",
   "execution_count": 27,
   "metadata": {},
   "outputs": [
    {
     "data": {
      "text/plain": [
       "'Judgementall Hai Kya, starring Kangana Ranaut, is something of a mixed bag…not unlike its protagonist. The film is alternately a black comedy, a whodunit, a trippy mind-bender, but also frequently a slog. It is both wildly original and frustratingly bizarre.Kangana plays Bobby, a young woman with unresolved childhood trauma, who has been diagnosed with acute psychosis. I’m no expert on the condition so I can’t confirm or question the veracity of its symptoms. But Bobby is prone to bouts of paranoia and hysterical outbursts, she hears voices in her head, and displays erratic behaviour. Working as a dubbing artiste for B-movies, she immerses herself (literally!) into the characters she voices, dreaming up scenarios, and photoshopping her face into film stills.Pretty soon her fantasies extend to include Keshav (Rajkummar Rao), a tenant who moves into the flat next door with his wife. Before you know it Bobby is spying on the couple in their private moments, crashing their weekend getaway, and stalking him in the dead of the night. Then someone is killed, and Keshav and Bobby are both suspects.It’s an interesting premise that leads one to ponder the matter of Bobby as an unreliable narrator, and the tendency of men to undermine strong women by raising questions about their sanity. The film’s first hour, although choppy, is nevertheless intriguing. Kangana, who is no stranger to unhinged characters, is immensely watchable even if she’s aced this shtick before in films like Gangster, Woh Lamhe, and Fashion. To be fair though, the characters she played in each of those films were marked by a delicate fragility; Bobby is driven by single-minded conviction.It helps also that director Prakash Kovelamudi and writer Kanika Dhillon use a generous serving of humour to ensure that the proceedings seldom become too grim. Satish Kaushik as a bhujia-chomping inspector and Brijendra Kala as his sidekick bring plenty laughs, as does Hussain Dalal in the role of Bobby’s frustrated boyfriend.But Judgementall Hai Kya hits the proverbial iceberg immediately after intermission. The story moves to London, barely held together by a coincidence that never feels convincing. Bobby and Keshav cross paths again, but at this point the script asks that you suspend not only disbelief but also even basic common sense.Bobby takes a job as an understudy for Sita in a stage production of Ramayana 2.0, a modern reimagining of the classic story. This plot device labours to make a point about looking at the Sita v Ravana situation with new eyes. It’s all very confusing, and frankly very confused. By now the script has come completely undone, leading to a lets-throw-everything-at-the-wall bonkers climax that felt like it went on forever.That’s true of the film too. At only two hours, Judgementall Hai Kya feels overlong and overstretched. The film’s second half is so weak, it makes you forget a lot of what you enjoyed in the first half. Which is a real shame because it’s shot and scored imaginatively, and makes a strong case for inclusion and empathy. Kangana Ranaut is solid, and Rajkummar Rao brings a real element of mystery to his character, never allowing us to feel like we’ve entirely figured the guy out. But the film falls way short of greatness on account of a muddled script that loses steam halfway.I’m going with two-and-a-half out of five for Judgementall Hai Kya. While you admire the attempt at originality, you can’t help feeling frustrated at just how it all comes apart in the end.'"
      ]
     },
     "execution_count": 27,
     "metadata": {},
     "output_type": "execute_result"
    }
   ],
   "source": [
    "import io\n",
    "Judgemental_hai_kya=io.open(\"judgemental_hai_kya_rajeev_masand.txt\").read()\n",
    "Judgemental_hai_kya"
   ]
  },
  {
   "cell_type": "code",
   "execution_count": 28,
   "metadata": {},
   "outputs": [
    {
     "name": "stdout",
     "output_type": "stream",
     "text": [
      "('neg', 1.0)\n"
     ]
    }
   ],
   "source": [
    "print(s.sentiment(Judgemental_hai_kya))"
   ]
  },
  {
   "cell_type": "code",
   "execution_count": 29,
   "metadata": {},
   "outputs": [
    {
     "data": {
      "text/plain": [
       "'Zoya Akhtar’s new film Gully Boy is an underdog story about a poor fellow from Dharavi whose dreams are bigger than his reality. It’s loosely based on the lives of Naezy and Divine, who made the journey from rags to rap-stars. Like them Murad, our protagonist, is determined not to let his circumstances restrict his ambition.But there are many layers to the film: it’s also about Murad’s coming-of-age and his discovery and understanding of who he truly is and what he stands for. It’s about finding one’s expression…in this case, through poetry and rap. It’s also a beautiful love story, and on some level it’s a love letter to Mumbai – a city where the haves and the have-nots exist in a tentative sort of peace, where skyscrapers overlook slums, where you can be poor and still have integrity, and where dreams frequently come true.What powers these different strands are essentially two things: an extraordinary performance from Ranveer Singh as Murad. And the music and lyrics, which have as much feeling as the story and performances.In her last film Dil Dhadakne Do, Zoya tapped into a quieter, more thoughtful side of Ranveer. They build on that in Gully Boy. A big chunk of his performance in this film plays out on his face in his expressions. There are stray moments that bristle with honesty. He gets even the little things down superbly; it’s clear that he’s an extremely intuitive, perceptive actor.The songs are potent, and loaded with powerful words that especially resonate in their respective situations. Murad, who has an abusive father, raps about his mother’s plight, about seeking freedom, about fulfilling his dreams, and about the importance of being authentic.Authentic, in fact, is a word that’s thrown around quite often in the film. The rappers have an integrity and authenticity that is important to them, and they take great pride in repeating that over and over again. Authentic is also the word I’d use to describe the storytelling and the filmmaking. This is a world that the writers have clearly embedded themselves in. This is not an outsider’s view of these people and their lives and homes; this is a keenly observed portrait, a lived-in world and that’s why it never feels fake. The dialogue, the lingo, the punchlines, they’re real. But much of that credit must be shared with the technical team who seamlessly create such an immersive cinematic experience.One of the things I most enjoyed in Gully Boy is the love story between Murad and Safeena, the character that Alia Bhatt plays. From their very first moments on screen – marked by a lovely wordless scene in a BEST bus – it becomes clear that they have a beautiful understanding which comes from being together for many years. Safeena is a medical student and belongs to a conservative Muslim family; but Zoya and her co-writer Reema Kagti have written such a spunky character in Safeena. She loves Murad; she’s marked her territory and you don’t want to fight her. Alia is terrific in the role.So is the rest of the cast, including Vijay Verma as Murad’s car mechanic friend Moeen, Vijay Raaz as his brutal father, and Amruta Subhash as his long-suffering mother. The standout though is a young actor named Siddhant Chaturvedi who plays MC Sher, the rapper who takes Murad under his wing, and introduces him to the world of rap battles. He’s got a charming presence and leaves a lasting impression.Less compelling is a subplot involving Kalki Koechlin’s character Sky, an affluent, US-returned musician who takes a keen interest both in Murad’s music and him. Aside from a few such plot points that I wasn’t entirely convinced about, my only really issue with the film is its length. Perhaps because there’s so much going on on screen, and because the filmmakers take the trouble to tie up each character’s story, the film is way too long. It’s nearly two and a half hours and that’s too long for a film whose basic story arc – the underdog narrative – is actually quite predictable.But those minor nigglings aside, I think Gully Boy is one of Zoya Akhtar’s stronger films; in fact for me it ranks right up there with her extraordinary first film Luck By Chance. I enjoyed the world she creates here, the characters that inhabit this world, and the paces she puts them through.Without overtly drawing attention to it, she makes a strong feminist statement in Safeena’s character, some sharp observations about minorities, and also about the world we live in and the place in it for those with lesser means. That’s a lot to pack into a film that works on surface level as a highly entertaining musical drama. I came away with an appreciation for Indian hip-hop, which frankly I knew nothing about until now.I’m going with four out of five for Gully Boy. I loved this film…from inside my bones.'"
      ]
     },
     "execution_count": 29,
     "metadata": {},
     "output_type": "execute_result"
    }
   ],
   "source": [
    "gully_boy=io.open(\"gully_boy.txt\").read()\n",
    "gully_boy"
   ]
  },
  {
   "cell_type": "code",
   "execution_count": 30,
   "metadata": {},
   "outputs": [
    {
     "name": "stdout",
     "output_type": "stream",
     "text": [
      "('pos', 1.0)\n"
     ]
    }
   ],
   "source": [
    "print(s.sentiment(gully_boy))"
   ]
  },
  {
   "cell_type": "code",
   "execution_count": null,
   "metadata": {},
   "outputs": [],
   "source": []
  }
 ],
 "metadata": {
  "kernelspec": {
   "display_name": "Python 3",
   "language": "python",
   "name": "python3"
  },
  "language_info": {
   "codemirror_mode": {
    "name": "ipython",
    "version": 3
   },
   "file_extension": ".py",
   "mimetype": "text/x-python",
   "name": "python",
   "nbconvert_exporter": "python",
   "pygments_lexer": "ipython3",
   "version": "3.6.8"
  }
 },
 "nbformat": 4,
 "nbformat_minor": 2
}
